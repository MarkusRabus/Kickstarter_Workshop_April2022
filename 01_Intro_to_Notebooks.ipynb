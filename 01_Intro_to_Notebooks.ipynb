{
 "cells": [
  {
   "cell_type": "markdown",
   "id": "749b0ddf",
   "metadata": {
    "tags": []
   },
   "source": [
    "<img align=\"left\" src = https://project.lsst.org/sites/default/files/Rubin-O-Logo_0.png width=250 style=\"padding: 10px\"> \n",
    "<b>Introduction to Jupyter Notebooks for Data Preview 0</b> <br>\n",
    "Last verified to run on 2021-12-08 with LSST Science Pipelines release w_2021_49 <br>\n",
    "Contact author: Melissa Graham <br>\n",
    "Target audience: All DP0 delegates, especially those new to Notebooks. <br>\n",
    "Container Size: medium <br>\n",
    "Questions welcome at <a href=\"https://community.lsst.org/c/support/dp0\">community.lsst.org/c/support/dp0</a> <br>\n",
    "Find DP0 documentation and resources at <a href=\"https://dp0-1.lsst.io\">dp0-1.lsst.io</a> <br>"
   ]
  },
  {
   "cell_type": "markdown",
   "id": "8f72b27f",
   "metadata": {
    "tags": []
   },
   "source": [
    "**Credit:** Originally developed by Melissa Graham in the context of the Rubin DP0.1. Please consider acknowledging Melissa Graham if this notebook is used for the preparation of journal articles or software releases."
   ]
  },
  {
   "cell_type": "markdown",
   "id": "cfc73be0",
   "metadata": {},
   "source": [
    "### 1.0 Introduction\n",
    "This Jupyter Notebook will illustrate how notebooks work, introduce you to a few Python packages. \n",
    "\n",
    "This notebook will teach you how to execute a Jupyter Notebook (including importing and using Python packages)."
   ]
  },
  {
   "cell_type": "code",
   "execution_count": null,
   "id": "33e9430f-3a99-4a97-8815-ae69c7845957",
   "metadata": {},
   "outputs": [],
   "source": []
  },
  {
   "cell_type": "markdown",
   "id": "dc36f107",
   "metadata": {},
   "source": [
    "**Table of Contents** <br>\n",
    "If you want to see a ToC for this notebook, click on the icon of a bullet list in the leftmost vertical menu bar, and an automatically-generated ToC will appear at left. Click on the icon of the file folder at the top of the leftmost verticle menu bar to return to a directory view.\n",
    "\n",
    "<!---\n",
    "1. Introduction<br>\n",
    " 1.1 What is a Jupyter Notebook?<br>\n",
    " 1.2 Emergency Stop a Notebook<br>\n",
    " 1.3 Importing Python packages<br>\n",
    "2. Catalog Access<br>\n",
    " 2.1 Table Access Protocol (TAP) Service<br>\n",
    " 2.2 Exploring catalog tables and columns with TAP<br>\n",
    " 2.3 Retrieving data with TAP<br>\n",
    " 2.4 Making a color-magnitude diagram<br>\n",
    "3. Image Access<br>\n",
    " 3.1 Finding and retrieving an image with the butler<br>\n",
    " 3.2 Displaying an image with afwDisplay<br>\n",
    "-->"
   ]
  },
  {
   "cell_type": "markdown",
   "id": "c3507e32",
   "metadata": {},
   "source": [
    "<!---\n",
    "This is a markdown cell. Press shift-enter to execute, and see the formatted text appear.\n",
    "-->\n",
    "#### 1.1 What is a Jupyter Notebook?\n",
    "Jupyter Notebooks are documents that contain a mix of code, output, visualizations, and narrative text. The most comprehensive source for documentation about Jupyter Notebooks is https://jupyter-notebook.readthedocs.io, but there are many great beginner-level tutorials and demos out there. Usually a web search of a question, like \"how to make a table in markdown jupyter notebook\", will yield several good examples -- and if you're not already familiar with <a href=\"https://stackoverflow.com/\">StackOverflow</a>, you may find yourself to be soon. 😄\n",
    "\n",
    "Most briefly, a notebook is a series of cells. There are three types of cells: markdown, code, and raw. This text was generated from a markdown cell. Double click on these words and you can see the markdown source code used to create it. Up in the menu bar you will find a drop-down menu to set the cell type.\n",
    "\n",
    "*Action: Click in the following code cell. When your cursor is in a cell, press \"shift\" and \"enter\" (or \"return\") simultaneously to execute the cell code.*"
   ]
  },
  {
   "cell_type": "code",
   "execution_count": null,
   "id": "ba94de19",
   "metadata": {},
   "outputs": [],
   "source": [
    "# This is a code cell. Press shift-enter to execute.\n",
    "# The # makes these lines comments, not code. They are not executed.\n",
    "print('Hello, world!')"
   ]
  },
  {
   "cell_type": "raw",
   "id": "a3449766",
   "metadata": {},
   "source": [
    "# This is a raw cell. You can press shift-enter, but nothing will execute.\n",
    "# The # symbol isn't doing anything here.\n",
    "print('Hello, world!')"
   ]
  },
  {
   "cell_type": "markdown",
   "id": "a34975f6",
   "metadata": {},
   "source": [
    "All of the remaining cells in this notebook are markdown or code. \n",
    "\n",
    "**It is important that all of the code cells in a notebook are executed in the order that they appear.** \n",
    "\n",
    "Not all of the code cells produce output like the one above, which has a print statement, but they are all doing something (e.g., importing packages, defining variables). If you want to execute all of the cells in a notebook, in order, go to Kernel --> Restart Kernel and Run All Cells.\n",
    "\n",
    "**Kernel:** The kernel is the computational engine for the notebook. In this case, we are using a Python3 kernel. You can think of the kernel as a live compiler, if that's helpful. Restarting the kernel means that all defined variables or functions are removed from memory, and all code cells revert to an \"unexecuted\" state."
   ]
  },
  {
   "cell_type": "markdown",
   "id": "374fd0a2",
   "metadata": {},
   "source": [
    "#### 1.2 Emergency Stop a Notebook\n",
    "If a code cell is taking a long time to execute (for example you accidentally tried to retrieve an entire catalog or tried to print 100,000 rows) and you need to kill it, go to Kernel --> Restart Kernel and Clear All Outputs. It might still take a few tens of seconds but it will stop the process."
   ]
  },
  {
   "cell_type": "markdown",
   "id": "245d2838",
   "metadata": {},
   "source": [
    "#### 1.3 Importing Python packages\n",
    "You will find that many Jupyter Notebooks start out by importing all the packages they will need, usually in the first code cell.\n",
    "\n",
    "You do not need to know anything about these packages to complete this tutorial, but here is a bit of extra information about numpy and matplotlib for new users. \n",
    "\n",
    "The **numpy** package is a fundamental package for scientific computing with arrays in Python.\n",
    "Its comprehensive documentation is available at <a href=\"https://numpy.org\">numpy.org</a>, and it includes quickstart beginner guides.\n",
    "\n",
    "The **matplotlib** package is a comprehensive library for creating static, animated, and interactive visualizations in Python.\n",
    "Its comprehensive documentation is at <a href=\"https://matplotlib.org/\">matplotlib.org</a>.\n",
    "The <a href=\"https://matplotlib.org/stable/gallery/index.html\">matplotlib gallery</a> is a great place to start and leads directly to copy-and-pastable code."
   ]
  },
  {
   "cell_type": "markdown",
   "id": "e8106313",
   "metadata": {},
   "source": [
    "*Action: Import all of the required packages for this notebook.*"
   ]
  },
  {
   "cell_type": "code",
   "execution_count": null,
   "id": "cddc1458",
   "metadata": {},
   "outputs": [],
   "source": [
    "# Import general python packages used by scientists\n",
    "import numpy\n",
    "print( 'numpy version: ', numpy.__version__ )\n",
    "import matplotlib\n",
    "print( 'matplotlib version: ', matplotlib.__version__ )\n",
    "import matplotlib.pyplot as plt\n",
    "\n",
    "# Import packages for Section 2.0 Catalog Access\n",
    "import pandas\n",
    "pandas.set_option('display.max_rows', 1000)\n",
    "from IPython.display import Markdown as md"
   ]
  },
  {
   "cell_type": "markdown",
   "id": "f5ca54f6",
   "metadata": {},
   "source": [
    "<br> Whatever packages are imported, you can make a list of all their methods pop up on your screen by typing into a code cell: the package name, followed by a period, and then pressing tab. Try it! Put your cursor after the period and press tab. The # symbol is there because `numpy.` and `plt.` are not executable code statements. The # symbol makes those lines comments, not code. If the # were not there, this cell would fail to execute. Try it! Remove the #, press shift-enter, and watch it fail."
   ]
  },
  {
   "cell_type": "code",
   "execution_count": null,
   "id": "9ff354c2",
   "metadata": {},
   "outputs": [],
   "source": [
    "# numpy.\n",
    "# plt."
   ]
  },
  {
   "cell_type": "markdown",
   "id": "8a4a559b",
   "metadata": {},
   "source": [
    "You can also print the help documentation to screen. These help outputs are pretty long, so we've \"commented out\" most of the examples. Remove the # symbol for one of them, press shift-enter to execute the cell, and you will see the help documentation appear below the cell."
   ]
  },
  {
   "cell_type": "code",
   "execution_count": null,
   "id": "c2d31bd7",
   "metadata": {},
   "outputs": [],
   "source": [
    "# help(numpy)\n",
    "# help(matplotlib)\n",
    "# help(numpy.abs)\n",
    "# help(matplotlib.pyplot)"
   ]
  },
  {
   "cell_type": "markdown",
   "id": "d9236a2e",
   "metadata": {},
   "source": []
  },
  {
   "cell_type": "code",
   "execution_count": null,
   "id": "4f6f4698-8485-4fa1-bbd5-a32c025a5d69",
   "metadata": {},
   "outputs": [],
   "source": []
  },
  {
   "cell_type": "code",
   "execution_count": null,
   "id": "15db97ff-85aa-48dc-9d06-1e4a98f70bc7",
   "metadata": {},
   "outputs": [],
   "source": []
  },
  {
   "cell_type": "code",
   "execution_count": null,
   "id": "c741f41f-bad6-427f-904d-ef625a8448c3",
   "metadata": {},
   "outputs": [],
   "source": []
  }
 ],
 "metadata": {
  "kernelspec": {
   "display_name": "Python 3 (LSST 2020)",
   "language": "python",
   "name": "python3"
  },
  "language_info": {
   "codemirror_mode": {
    "name": "ipython",
    "version": 3
   },
   "file_extension": ".py",
   "mimetype": "text/x-python",
   "name": "python",
   "nbconvert_exporter": "python",
   "pygments_lexer": "ipython3",
   "version": "3.7.6"
  },
  "toc-autonumbering": false
 },
 "nbformat": 4,
 "nbformat_minor": 5
}
