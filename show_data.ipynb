{
 "cells": [
  {
   "cell_type": "markdown",
   "id": "01744f7b-ac67-4c46-9827-eafa8e1e4aa7",
   "metadata": {},
   "source": [
    "# Workshop Rubin Kickstarter Grant - “Building a Diverse Generation of Rubin Scientists”\n",
    "\n",
    "April 11-14th 2022\n",
    "\n",
    "\n",
    "## Credit: \n",
    "\n",
    "This notebook is based on several tutorials from DP0 and the stack club (copy and paste with some modification). We make use of the publicly available images from DECam, specifically the data set from Saha et al. (2019) with the observing program ID 2013A-0719. We further heavily collaborate with the Crowded Field Task Force, Commissioning Task Force and other Kickstarter Grants. The data reduction pipeline used was developed by the Rubin Observatory.\n",
    "\n",
    "## Learning Objectives:\n",
    "- Appreciate the notebook environment of Rubin Observatory's data access.\n",
    "- Explore the data using the Butler interface.\n",
    "- Differenciate between different intermediate and final data products.\n",
    "- Know how to display images.\n",
    "- Understand and modify standard configuration pipeline parameters and rerun the image analysis.\n",
    "\n",
    "## Data products:\n",
    "\n",
    "Compared to DP0 we will use the LINCC computing system to access the data. Furthermore, our data is not simulated, I ingested and reduced observed DECam images. The images we will be using are rather crowded with a focus on the Milky Way bulge. Detectors 2, 31 and 61 were ignored during the data reduction process.\n",
    "\n",
    "### DECam\n",
    "The Dark Energy Camera (DECam) is a wide-field imager mounted the on the 4m Blanco telescope. It has an 2.2 degree field with a pixelscale of 0.27\"/pixel. The imaging system consits of 62 2k$\\times$4k CCDs. It is therefore an ideal instrument to conduct pre-cursor studies  \n",
    "\n",
    "## Requisites:\n",
    "- Basic understanding of Python\n",
    "- Github account\n",
    "- Access to the LINCC cloud computing facility\n",
    "\n",
    "\n"
   ]
  },
  {
   "cell_type": "code",
   "execution_count": null,
   "id": "a75faeb4-adee-4c07-9f87-3dbbc0fb93c7",
   "metadata": {},
   "outputs": [],
   "source": [
    "import os\n",
    "from astropy import units as u\n",
    "from astropy.coordinates import SkyCoord\n",
    "import matplotlib.pylab as plt\n",
    "\n",
    "import warnings                      # imports the warnings library\n",
    "import gc                            # imports python's garbage collector\n",
    "from astropy.wcs import WCS          # imports astropy's World Coordinate System function WCS\n",
    "\n",
    "from astropy.visualization import make_lupton_rgb\n",
    "import numpy as np\n",
    "\n",
    "# Import LSST Science Pipelines packages (see pipelines.lsst.io)\n",
    "import lsst.daf.base as dafBase\n",
    "from lsst.daf.butler import Butler\n",
    "import lsst.afw.image as afwImage\n",
    "import lsst.afw.display as afwDisplay\n",
    "import lsst.afw.table as afwTable\n",
    "import lsst.geom as geom\n",
    "import lsst.sphgeom as sphgeom\n",
    "\n",
    "# Import Pipeline tasks \n",
    "from lsst.pipe.tasks.characterizeImage import CharacterizeImageTask\n",
    "from lsst.pipe.tasks.calibrate import CalibrateTask\n",
    "from lsst.meas.algorithms.detection import SourceDetectionTask\n",
    "from lsst.meas.deblender import SourceDeblendTask\n",
    "from lsst.meas.base import SingleFrameMeasurementTask"
   ]
  },
  {
   "cell_type": "code",
   "execution_count": null,
   "id": "ff7d3164-7b46-45d3-b08c-24cfc7719292",
   "metadata": {},
   "outputs": [],
   "source": [
    "# Claimed to be color-blind friendly\n",
    "\n",
    "CB_color = ['#377eb8', '#ff7f00', '#4daf4a',\n",
    "                  '#f781bf', '#a65628', '#984ea3',\n",
    "                  '#999999', '#e41a1c', '#dede00']"
   ]
  },
  {
   "cell_type": "code",
   "execution_count": null,
   "id": "1d485bd6-a180-47a9-a118-e90a83270fe1",
   "metadata": {},
   "outputs": [],
   "source": [
    "# Set up some plotting defaults:\n",
    "\n",
    "params = {'axes.labelsize': 12,\n",
    "          'font.size': 12,\n",
    "          'legend.fontsize': 14,\n",
    "          'xtick.major.width': 3,\n",
    "          'xtick.minor.width': 2,\n",
    "          'xtick.major.size': 12,\n",
    "          'xtick.minor.size': 6,\n",
    "          'xtick.direction': 'in',\n",
    "          'xtick.top': True,\n",
    "          'lines.linewidth': 3,\n",
    "          'axes.linewidth': 3,\n",
    "          'axes.labelweight': 3,\n",
    "          'axes.titleweight': 3,\n",
    "          'ytick.major.width': 3,\n",
    "          'ytick.minor.width': 2,\n",
    "          'ytick.major.size': 12,\n",
    "          'ytick.minor.size': 6,\n",
    "          'ytick.direction': 'in',\n",
    "          'ytick.right': True,\n",
    "          'figure.figsize': [8, 8],\n",
    "          'figure.facecolor': 'White'\n",
    "          }\n",
    "\n",
    "plt.rcParams.update(params)"
   ]
  },
  {
   "cell_type": "code",
   "execution_count": null,
   "id": "a90eca05-f00f-44be-b38b-3a9716983565",
   "metadata": {},
   "outputs": [],
   "source": [
    "# prevent some helpful but ancillary warning messages from printing\n",
    "#   during some LSST DM Release calls\n",
    "warnings.simplefilter(\"ignore\", category=UserWarning)"
   ]
  },
  {
   "cell_type": "code",
   "execution_count": null,
   "id": "1bca9ab7-4537-4f30-9311-c4bd185f3e29",
   "metadata": {},
   "outputs": [],
   "source": [
    "# Use lsst.afw.display with the matplotlib backend\n",
    "afwDisplay.setDefaultBackend('matplotlib')"
   ]
  },
  {
   "cell_type": "markdown",
   "id": "4de25894-ad9c-4276-a284-301b89587d11",
   "metadata": {},
   "source": [
    "<br><br><br>\n",
    "\n",
    "## Butler system\n",
    "\n",
    "The amount of the large data makes is necesary to store everyting in a database. The butler is a high level access through python to the data. Data is stored in repositories. I created the DECam repository to ingest, analyise and access the DECam data. Therefore, we have to create a butler instance pointing to the directory of the repository."
   ]
  },
  {
   "cell_type": "code",
   "execution_count": null,
   "id": "9a1827c8-aad7-4e8a-b1d7-a2477b47b59e",
   "metadata": {},
   "outputs": [],
   "source": [
    "#We set the path of the butler repository\n",
    "REPO_DIR = '/home/markusrabus/extra_disk/markusrabus/DATA/Repo_DECam'\n"
   ]
  },
  {
   "cell_type": "code",
   "execution_count": null,
   "id": "2a2d974a-16f1-4e9c-925f-6f28468b860c",
   "metadata": {},
   "outputs": [],
   "source": [
    "#Create the butler instance\n",
    "butler = Butler(REPO_DIR)"
   ]
  },
  {
   "cell_type": "code",
   "execution_count": null,
   "id": "022a96d7-3540-42d5-8fed-b7f9eb1a51a8",
   "metadata": {
    "tags": []
   },
   "outputs": [],
   "source": [
    "#The data inside the repository is further structured in different collections of data of the same type and propose.\n",
    "#In this cell we query the butler to show us all available collections in the repositor\n",
    "\n",
    "registry = butler.registry\n",
    "for col in registry.queryCollections():\n",
    "\tprint(col)"
   ]
  },
  {
   "cell_type": "code",
   "execution_count": null,
   "id": "b763584b-88cc-4204-8b2e-5b5e498ae921",
   "metadata": {},
   "outputs": [],
   "source": [
    "for c in sorted(registry.queryCollections('refcats', flattenChains=True)):\n",
    "    print(c, registry.getCollectionType(c))"
   ]
  },
  {
   "cell_type": "code",
   "execution_count": null,
   "id": "0d19de25-b400-4436-b0ce-2c797c6214f1",
   "metadata": {},
   "outputs": [],
   "source": [
    "#we can also create a butler instance considering only a certain collection\n",
    "butler_collection = Butler(REPO_DIR, collections='processCcdOutputs1/processed_bulge_Mar2022')"
   ]
  },
  {
   "cell_type": "code",
   "execution_count": null,
   "id": "b7b52958-7fe7-4e74-958f-dca1200da617",
   "metadata": {},
   "outputs": [],
   "source": [
    "for ref in butler_collection.registry.queryDatasetTypes():\n",
    "    print(ref.name)"
   ]
  },
  {
   "cell_type": "markdown",
   "id": "65941135-c31b-4233-88e1-37458283bc7e",
   "metadata": {},
   "source": [
    "<br><br>\n",
    "Some important Dataset types:\n",
    "- `src`: a catalog of sources\n",
    "- `calexp`: single CCD of a processed visit\n",
    "<br><br>"
   ]
  },
  {
   "cell_type": "code",
   "execution_count": null,
   "id": "cb89aa07-ab43-4056-afaf-e4c257a25200",
   "metadata": {
    "tags": []
   },
   "outputs": [],
   "source": [
    "# Next we can query all available raw images in a certain filter and detector.\n",
    "number_images = 0\n",
    "for ref in butler.registry.queryDatasets('raw', collections='DECam/raw/all', instrument='DECam', detector=1, band='i'):\n",
    "    print(ref.dataId.full)\n",
    "    number_images += 1\n",
    "    \n",
    "print( \"Number of visits: {}\".format(number_images) )"
   ]
  },
  {
   "cell_type": "code",
   "execution_count": null,
   "id": "837d1d2d-ca7b-4e38-9809-8c9727f4219f",
   "metadata": {},
   "outputs": [],
   "source": [
    "registry.getCollectionDocumentation('processCcdOutputs1/processed_bulge_Mar2022')"
   ]
  },
  {
   "cell_type": "code",
   "execution_count": null,
   "id": "6d5ac316-1302-44db-8c8c-ef92b2bfd01f",
   "metadata": {
    "tags": []
   },
   "outputs": [],
   "source": [
    "datasetRefs = registry.queryDatasets(datasetType='calexp', collections='processCcdOutputs1/processed_bulge_Mar2022')\n",
    "\n",
    "for i, ref in enumerate(datasetRefs):\n",
    "    print(ref.dataId.full)\n",
    "    print(ref.dataId)\n",
    "    print(ref.dataId['band'])\n",
    "    print(' ')\n"
   ]
  },
  {
   "cell_type": "code",
   "execution_count": null,
   "id": "f71e6bfd-eea4-4c4f-b583-f4496a0ea2e9",
   "metadata": {},
   "outputs": [],
   "source": []
  },
  {
   "cell_type": "markdown",
   "id": "bb766f8f-8314-4cbb-ad08-f1c0ae7cbbb1",
   "metadata": {},
   "source": [
    "<br><br><br>\n",
    "\n",
    "## Display images\n",
    "We can display different images:\n",
    "- Raw images\n",
    "- Images with the instrumental signature removed (ISR)\n",
    "- Calibrated exposures (calexp), which include source detection and deblending.\n",
    "\n",
    "\n"
   ]
  },
  {
   "cell_type": "code",
   "execution_count": null,
   "id": "0fec9030-1eba-4da7-9198-8661f24b01bc",
   "metadata": {},
   "outputs": [],
   "source": []
  },
  {
   "cell_type": "code",
   "execution_count": null,
   "id": "3fb3ef3d-59ca-49f4-8a22-261221619b5d",
   "metadata": {},
   "outputs": [],
   "source": [
    "#We start by displaying a raw images.\n",
    "rawexp_g = butler.get('raw', band='g', detector=50, collections='DECam/raw/all', instrument='DECam')\n"
   ]
  },
  {
   "cell_type": "code",
   "execution_count": null,
   "id": "f1163330-6a5c-416d-bc0b-64d21c09a603",
   "metadata": {},
   "outputs": [],
   "source": [
    "calexp_g = butler.get('calexp', visit=427658, band='g', detector=50, collections='processCcdOutputs1/processed_bulge_Mar2022', instrument='DECam')\n",
    "#calexp_r = butler.get('calexp', visit=427655, band='r', detector=50, collections=collection, instrument='DECam')\n",
    "#calexp_i = butler.get('calexp', visit=427656, band='i', detector=50, collections=collection, instrument='DECam')"
   ]
  },
  {
   "cell_type": "code",
   "execution_count": null,
   "id": "50526ef2-6eed-4c6b-a79f-cf417aac704b",
   "metadata": {},
   "outputs": [],
   "source": [
    "fig, ax = plt.subplots(1, 1, figsize=(14, 7))\n",
    "display1 = afwDisplay.Display(frame=fig)\n",
    "display1.scale('linear', 'zscale')\n",
    "display1.mtv(calexp_g)"
   ]
  },
  {
   "cell_type": "code",
   "execution_count": null,
   "id": "9be003e4-a71d-4ab2-87cc-ea973f9f5ce0",
   "metadata": {},
   "outputs": [],
   "source": [
    "fig, ax = plt.subplots(1, 1, figsize=(14, 7))\n",
    "plt.sca(ax[0])  # set the first axis as current\n",
    "display1 = afwDisplay.Display(frame=fig)\n",
    "display1.scale('linear', 'zscale')\n",
    "display1.mtv(calexp_g)\n",
    "plt.sca(ax[1])  # set the second axis as current\n",
    "display2 = afwDisplay.Display(frame=fig)\n",
    "display2.scale('linear', 'zscale')\n",
    "display2.mtv(calexp_r)\n",
    "plt.sca(ax[2])  # set the second axis as current\n",
    "display3 = afwDisplay.Display(frame=fig)\n",
    "display3.scale('linear', 'zscale')\n",
    "display3.mtv(calexp_i)\n",
    "plt.tight_layout()\n",
    "plt.show()\n"
   ]
  },
  {
   "cell_type": "code",
   "execution_count": null,
   "id": "32bf4189-2124-4ed4-a4f6-663617ea27aa",
   "metadata": {},
   "outputs": [],
   "source": [
    "# Print the colors associated to each plane in the mask\n",
    "print(\"Mask plane bit definitions:\\n\", display1.getMaskPlaneColor())\n",
    "print(\"\\nMask plane methods:\\n\")\n"
   ]
  },
  {
   "cell_type": "code",
   "execution_count": null,
   "id": "88efacb5-5892-4c60-b554-3cdbd04450d1",
   "metadata": {},
   "outputs": [],
   "source": [
    "# Define the pixel coordinates of a known low surface brightness \"galaxy\"\n",
    "x_target, y_target = 800, 3700\n",
    "width, height = 500, 500\n",
    "\n",
    "#x_target, y_target = 1700, 2100\n",
    "#width, height = 400, 400\n",
    "\n",
    "xmin, ymin = x_target-width//2, y_target-height//2\n",
    "point = geom.Point2D(x_target,y_target)\n",
    "\n",
    "# Define a small region for a cutout\n",
    "bbox = geom.Box2I()\n",
    "bbox.include(geom.Point2I(xmin, ymin))\n",
    "bbox.include(geom.Point2I(xmin + width, ymin + height))\n",
    "\n",
    "# An alternative way to defined the same cutout region\n",
    "# bbox = geom.Box2I(geom.Point2I(xmin, ymin), geom.Extent2I(width, height))\n",
    "\n",
    "# Generate the cutout image\n",
    "cutout = calexp_r.Factory(calexp_r, bbox, origin=afwImage.LOCAL, deep=False)"
   ]
  },
  {
   "cell_type": "code",
   "execution_count": null,
   "id": "6a9dc018-b4a2-41b1-9c34-36c91a47f45d",
   "metadata": {},
   "outputs": [],
   "source": [
    "fig, ax = plt.subplots(1, 1, figsize=(14, 7))\n",
    "plt.sca(ax)  # set the first axis as current\n",
    "display1 = afwDisplay.Display(frame=fig)\n",
    "display1.scale('asinh', 'zscale')\n",
    "display1.mtv(cutout)"
   ]
  },
  {
   "cell_type": "code",
   "execution_count": null,
   "id": "1ad117ce-5609-40bc-86c6-455e2647a6ec",
   "metadata": {},
   "outputs": [],
   "source": [
    "fig = plt.figure()\n",
    "# Set the figure's projection to be the WCS of the calexp\n",
    "plt.subplot(projection=WCS(calexp_r.getWcs().getFitsMetadata()))\n",
    "# Display the calexp image data array using the gray colormap (cmap)\n",
    "#  and use approximately the same min and max scale values as above\n",
    "im = plt.imshow(calexp_r.image.array, cmap='gray', vmin=-200.0, vmax=400, origin='lower')\n",
    "# Add solid white grid lines\n",
    "plt.grid(color='white', ls='solid')\n",
    "# Label axes\n",
    "plt.xlabel('Right Ascension')\n",
    "plt.ylabel('Declination')\n",
    "plt.show()\n"
   ]
  },
  {
   "cell_type": "code",
   "execution_count": null,
   "id": "0d899676-a82a-410d-96ea-c39a41b33ea2",
   "metadata": {},
   "outputs": [],
   "source": []
  },
  {
   "cell_type": "code",
   "execution_count": null,
   "id": "91111e15-abfa-45bf-887d-cb096b659c92",
   "metadata": {},
   "outputs": [],
   "source": []
  },
  {
   "cell_type": "code",
   "execution_count": null,
   "id": "2332d59a-8e80-419b-ab24-f32f6e419e2d",
   "metadata": {},
   "outputs": [],
   "source": []
  },
  {
   "cell_type": "code",
   "execution_count": null,
   "id": "7270dc0b-3050-448e-b617-8be2b15e229c",
   "metadata": {},
   "outputs": [],
   "source": [
    "schema = afwTable.SourceTable.makeMinimalSchema()\n",
    "print(schema)\n",
    "\n",
    "# Create a container which will be used to record metadata\n",
    "#  about algorithm execution\n",
    "algMetadata = dafBase.PropertyList()\n",
    "print('algMetadata: ')\n",
    "algMetadata"
   ]
  },
  {
   "cell_type": "code",
   "execution_count": null,
   "id": "7b2abf3a-54e3-456d-a6a7-46d857698bec",
   "metadata": {},
   "outputs": [],
   "source": [
    "# Characterize the image properties\n",
    "config = CharacterizeImageTask.ConfigClass()\n",
    "config.psfIterations = 1\n",
    "charImageTask = CharacterizeImageTask(config=config)\n",
    "\n",
    "# Detect sources\n",
    "config = SourceDetectionTask.ConfigClass()\n",
    "# detection threshold in units of thresholdType\n",
    "config.thresholdValue = 10\n",
    "# units for thresholdValue\n",
    "config.thresholdType = \"stdev\"\n",
    "sourceDetectionTask = SourceDetectionTask(schema=schema, config=config)\n",
    "\n",
    "# Deblend sources\n",
    "sourceDeblendTask = SourceDeblendTask(schema=schema)\n",
    "\n",
    "# Measure source properties\n",
    "config = SingleFrameMeasurementTask.ConfigClass()\n",
    "sourceMeasurementTask = SingleFrameMeasurementTask(schema=schema,\n",
    "                                                   config=config,\n",
    "                                                   algMetadata=algMetadata)"
   ]
  },
  {
   "cell_type": "code",
   "execution_count": null,
   "id": "c00d108c-c7f6-4c69-b7de-dd721eb00429",
   "metadata": {},
   "outputs": [],
   "source": [
    "tab = afwTable.SourceTable.make(schema)"
   ]
  },
  {
   "cell_type": "code",
   "execution_count": null,
   "id": "2dd58e53-ac19-497c-919e-e2192fa25c4f",
   "metadata": {},
   "outputs": [],
   "source": [
    "# Image characterization (this cell may take a few seconds)\n",
    "result = charImageTask.run(calexp_r)\n",
    "\n",
    "# Get the PSF at our point of interest\n",
    "psf = calexp_r.getPsf()\n",
    "sigma = psf.computeShape(point).getDeterminantRadius()\n",
    "pixelScale = calexp_r.getWcs().getPixelScale().asArcseconds()\n",
    "\n",
    "# The factor of 2.355 converts from std to fwhm\n",
    "print('psf fwhm = {:.2f} arcsec'.format(sigma*pixelScale*2.355))"
   ]
  },
  {
   "cell_type": "code",
   "execution_count": null,
   "id": "b3df245a-4ee0-4aac-b411-d870a9b1028b",
   "metadata": {},
   "outputs": [],
   "source": [
    "# Source detection (this cell may take a few seconds)\n",
    "result = sourceDetectionTask.run(tab, calexp_r)\n",
    "type(result)"
   ]
  },
  {
   "cell_type": "code",
   "execution_count": null,
   "id": "56a5fd5e-ca7d-402b-ab07-22e26cd33cb9",
   "metadata": {},
   "outputs": [],
   "source": [
    "for k, v in result.getDict().items():\n",
    "    print(k, type(v))"
   ]
  },
  {
   "cell_type": "code",
   "execution_count": null,
   "id": "938ff05e-f920-46af-9fb2-319e2dc9ff34",
   "metadata": {},
   "outputs": [],
   "source": [
    "result.numPosPeaks"
   ]
  },
  {
   "cell_type": "code",
   "execution_count": null,
   "id": "6202abfb-0a72-447b-89c4-9718865626c8",
   "metadata": {},
   "outputs": [],
   "source": [
    "sources = result.sources"
   ]
  },
  {
   "cell_type": "code",
   "execution_count": null,
   "id": "f228a076-b8d2-4833-9000-735f4789f847",
   "metadata": {},
   "outputs": [],
   "source": [
    "# Source deblending\n",
    "sourceDeblendTask.run(calexp_r, sources)\n",
    "\n",
    "# Source measurement (catch future warning about machine precision)\n",
    "sourceMeasurementTask.run(measCat=sources, exposure=calexp_r)"
   ]
  },
  {
   "cell_type": "code",
   "execution_count": null,
   "id": "7ee8717e-3131-4dfe-a429-4213f2abbde0",
   "metadata": {},
   "outputs": [],
   "source": [
    "# The copy makes sure that the sources are sequential in memory\n",
    "sources = sources.copy(True)\n",
    "\n",
    "# Investigate the output source catalog\n",
    "sources.asAstropy()"
   ]
  },
  {
   "cell_type": "code",
   "execution_count": null,
   "id": "a6564a35-5c6b-44f7-a2b6-69b7ecd03415",
   "metadata": {},
   "outputs": [],
   "source": [
    "# Display the cutout and sources with afw display\n",
    "image = cutout.image\n",
    "\n",
    "plt.figure()\n",
    "afw_display = afwDisplay.Display()\n",
    "afw_display.scale('asinh', 'zscale')\n",
    "afw_display.mtv(image)\n",
    "plt.gca().axis('off')\n",
    "\n",
    "# We use display buffering to avoid re-drawing the image\n",
    "#  after each source is plotted\n",
    "with afw_display.Buffering():\n",
    "    for s in sources:\n",
    "        afw_display.dot('+', s.getX(), s.getY(), ctype=afwDisplay.RED)\n",
    "        afw_display.dot('o', s.getX(), s.getY(), size=5, ctype='orange')"
   ]
  },
  {
   "cell_type": "code",
   "execution_count": null,
   "id": "9641f529-654a-4c1a-adec-286ce0e25f0a",
   "metadata": {},
   "outputs": [],
   "source": [
    "schema2 = afwTable.SourceTable.makeMinimalSchema()\n",
    "\n",
    "# Create a container which will be used to record metadata\n",
    "#  about algorithm execution\n",
    "algMetadata = dafBase.PropertyList()\n",
    "\n",
    "\n",
    "# Characterize the image properties\n",
    "config = CharacterizeImageTask.ConfigClass()\n",
    "config.psfIterations = 1\n",
    "charImageTask2 = CharacterizeImageTask(config=config)\n",
    "\n",
    "# Detect sources\n",
    "config = SourceDetectionTask.ConfigClass()\n",
    "# detection threshold in units of thresholdType\n",
    "config.thresholdValue = 5\n",
    "# units for thresholdValue\n",
    "config.thresholdType = \"stdev\"\n",
    "sourceDetectionTask2 = SourceDetectionTask(schema=schema, config=config)\n",
    "\n",
    "# Deblend sources\n",
    "sourceDeblendTask2 = SourceDeblendTask(schema=schema2)\n",
    "\n",
    "# Measure source properties\n",
    "config = SingleFrameMeasurementTask.ConfigClass()\n",
    "sourceMeasurementTask = SingleFrameMeasurementTask(schema=schema2,\n",
    "                                                   config=config,\n",
    "                                                   algMetadata=algMetadata)"
   ]
  },
  {
   "cell_type": "code",
   "execution_count": null,
   "id": "793509cd-c7cf-463d-a656-faa1a11e9656",
   "metadata": {},
   "outputs": [],
   "source": [
    "tab = afwTable.SourceTable.make(schema2)"
   ]
  },
  {
   "cell_type": "code",
   "execution_count": null,
   "id": "3bf8ab8c-3b72-47bb-a368-3df130c078b4",
   "metadata": {},
   "outputs": [],
   "source": [
    "result2 = charImageTask.run(calexp_r)\n",
    "result2 = sourceDetectionTask.run(tab, calexp_r)\n",
    "sources2 = result2.sources\n",
    "sourceDeblendTask.run(calexp_r, sources2)\n",
    "sourceMeasurementTask.run(measCat=sources2, exposure=calexp_r)"
   ]
  },
  {
   "cell_type": "code",
   "execution_count": null,
   "id": "002a2fd0-6469-453f-bc4c-0c650b556a0a",
   "metadata": {},
   "outputs": [],
   "source": [
    "# The copy makes sure that the sources are sequential in memory\n",
    "sources2 = sources2.copy(True)\n",
    "\n"
   ]
  },
  {
   "cell_type": "code",
   "execution_count": null,
   "id": "4a76b9b1-f23a-47b1-ac57-c478d62bf33c",
   "metadata": {},
   "outputs": [],
   "source": [
    "# Display the cutout and sources with afw display\n",
    "image = cutout.image\n",
    "\n",
    "plt.figure()\n",
    "afw_display = afwDisplay.Display()\n",
    "afw_display.scale('asinh', 'zscale')\n",
    "afw_display.mtv(image)\n",
    "plt.gca().axis('off')\n",
    "\n",
    "\n",
    "        \n",
    "        \n",
    "with afw_display.Buffering():\n",
    "    for s in sources:\n",
    "        afw_display.dot('+', s.getX(), s.getY(), ctype=afwDisplay.RED, size=5)\n",
    "        afw_display.dot('o', s.getX(), s.getY(), size=7, ctype='green')\n",
    "        \n",
    "        \n",
    "# We use display buffering to avoid re-drawing the image\n",
    "#  after each source is plotted\n",
    "with afw_display.Buffering():\n",
    "    for s in sources2:\n",
    "        afw_display.dot('+', s.getX(), s.getY(), ctype=afwDisplay.BLUE)\n",
    "        afw_display.dot('o', s.getX(), s.getY(), size=5, ctype='orange')"
   ]
  },
  {
   "cell_type": "code",
   "execution_count": null,
   "id": "9dc3501b-f711-440e-ba72-56fb1c91b678",
   "metadata": {},
   "outputs": [],
   "source": [
    "sources_r1 = butler.get('src', visit=427335, band='r', detector=50, collections=collection, instrument='DECam')\n",
    "sources_r2 = butler.get('src', visit=427350, band='r', detector=50, collections=collection, instrument='DECam')"
   ]
  },
  {
   "cell_type": "code",
   "execution_count": null,
   "id": "fe188cf5-763d-4fba-9a25-04a3dcbf3368",
   "metadata": {},
   "outputs": [],
   "source": [
    "sources_r1"
   ]
  },
  {
   "cell_type": "code",
   "execution_count": null,
   "id": "0e5b9440-213d-43e4-b451-cf19a6ca0528",
   "metadata": {},
   "outputs": [],
   "source": [
    "sources_r2"
   ]
  },
  {
   "cell_type": "code",
   "execution_count": null,
   "id": "b1ba359d-a3f5-468b-a829-d1aabe7163b5",
   "metadata": {},
   "outputs": [],
   "source": []
  }
 ],
 "metadata": {
  "kernelspec": {
   "display_name": "LSST Pipelines v23.0.0 (Jan 2022)",
   "language": "python",
   "name": "python3-23.0.0"
  },
  "language_info": {
   "codemirror_mode": {
    "name": "ipython",
    "version": 3
   },
   "file_extension": ".py",
   "mimetype": "text/x-python",
   "name": "python",
   "nbconvert_exporter": "python",
   "pygments_lexer": "ipython3",
   "version": "3.8.8"
  }
 },
 "nbformat": 4,
 "nbformat_minor": 5
}
